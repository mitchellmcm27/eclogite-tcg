{
 "cells": [
  {
   "cell_type": "code",
   "execution_count": null,
   "metadata": {},
   "outputs": [
    {
     "ename": "SyntaxError",
     "evalue": "invalid syntax (1132208955.py, line 56)",
     "output_type": "error",
     "traceback": [
      "\u001b[0;36m  File \u001b[0;32m\"/tmp/ipykernel_8601/1132208955.py\"\u001b[0;36m, line \u001b[0;32m56\u001b[0m\n\u001b[0;31m    ode.solve(T+273.15,,Fi0,cik0,1,Da=1e6)\u001b[0m\n\u001b[0m                       ^\u001b[0m\n\u001b[0;31mSyntaxError\u001b[0m\u001b[0;31m:\u001b[0m invalid syntax\n"
     ]
    }
   ],
   "source": [
    "import sys,os\n",
    "sys.path.append(os.path.join(os.path.pardir, 'tcg_slb_database','python'))\n",
    "import numpy as np\n",
    "import matplotlib.pyplot as plt\n",
    "from tcg_slb.phasediagram.scipy import ScipyPDReactiveODE\n",
    "from tcg_slb.phasediagram.base import GPa2Bar\n",
    "from python.tcg import x2c,phi2F,get_reaction,composition_to_label, custom_solve\n",
    "from python.perplex import ppx_point_composition, ppx_profile_data\n",
    "\n",
    "eps = 1.e-5 # default, 1.e-2\n",
    "\n",
    "img_a = plt.imread(\"figs/li2022_8a.png\")\n",
    "img_b = plt.imread(\"figs/li2022_8b.png\")\n",
    "\n",
    "fig = plt.figure(figsize=(7,3))\n",
    "\n",
    "ax1 = plt.subplot(1,2,1)\n",
    "plt.imshow(img_a, extent=[45, 56, 2.4, 4.0], aspect='auto', zorder=-1, alpha=0.5)\n",
    "\n",
    "ax2 = plt.subplot(1,2,2)\n",
    "plt.imshow(img_b, extent=[45, 56, 2.4, 4.0], aspect='auto', zorder=-1, alpha=0.5)\n",
    "\n",
    "rxn = get_reaction(\"eclogitization_2024_slb21_rx\")\n",
    "Tr = 5500.+273.15 \n",
    "rxn.set_parameter(\"T0\", Tr)\n",
    "\n",
    "# name, sio2 wt%, marker type\n",
    "comps = [\n",
    "    (\"mackwell_1998_maryland_diabase\", 51.66,'o'), \n",
    "    (\"hacker_2015_md_xenolith\",52.1,'o'), \n",
    "    (\"sammon_2021_lower_crust\",53.3,'o'), \n",
    "    (\"sammon_2021_deep_crust\", 57.6,'o')\n",
    "]\n",
    "\n",
    "\n",
    "for composition, sio2, marker in comps:\n",
    "    print(composition)\n",
    "    Fi0, Xik0, phii0, cik0 = ppx_point_composition(rxn, composition)\n",
    "    cik0 = x2c(rxn, Xik0) if cik0 is None else cik0\n",
    "    Fi0 = phi2F(rxn, phii0, cik0, eps) if Fi0 is None else Fi0\n",
    "\n",
    "    ode = ScipyPDReactiveODE(rxn)\n",
    "\n",
    "    facies = [\n",
    "        (900., 2.25e4, 'green'), # eclogite\n",
    "        (900., 2.0e4, 'green'), # eclogite\n",
    "        (900., 1.75e4, 'orange'), # grt-omp granulite\n",
    "        (900., 1.5e4, 'orange'), # grt-omp granulite\n",
    "        (900., 1.25e4, 'blue'), # granulite\n",
    "        (900., 1.0e4, 'blue'), # granulite\n",
    "    ]\n",
    "\n",
    "    for T, P, color in facies:\n",
    "\n",
    "        # equilibrate at given facies\n",
    "        ode.solve(T+273.15,P,Fi0,cik0,1,Da=1e6)\n",
    "\n",
    "        # set ambient P,T\n",
    "        ode.p = 21e3 # bar\n",
    "        ode.T = 900.0+273.15\n",
    "        rho1 = ode.final_rho()\n",
    "        ax1.plot(sio2,rho1/10.,marker,color=color)\n",
    "\n",
    "        ode.T = 1000.0+273.15\n",
    "        rho2 = ode.final_rho()\n",
    "        ax2.plot(sio2,rho2/10.,marker,color=color)\n"
   ]
  },
  {
   "cell_type": "code",
   "execution_count": null,
   "metadata": {},
   "outputs": [],
   "source": []
  }
 ],
 "metadata": {
  "kernelspec": {
   "display_name": "Python 3",
   "language": "python",
   "name": "python3"
  },
  "language_info": {
   "codemirror_mode": {
    "name": "ipython",
    "version": 3
   },
   "file_extension": ".py",
   "mimetype": "text/x-python",
   "name": "python",
   "nbconvert_exporter": "python",
   "pygments_lexer": "ipython3",
   "version": "3.10.12"
  }
 },
 "nbformat": 4,
 "nbformat_minor": 2
}
