{
 "cells": [
  {
   "cell_type": "code",
   "execution_count": 53,
   "metadata": {},
   "outputs": [
    {
     "name": "stdout",
     "output_type": "stream",
     "text": [
      "{'plg': -5763.14632164398, 'ol': -11526.2926432880, 'wa': -11526.2926432880, 'ri': -11526.2926432880, 'pv': -14426.6440641869, 'ppv': -14426.6440641869, 'opx': -17289.4389649319, 'cpx': -22077.8636375664, 'hpcpx': -11526.2926432880, 'ak': -14426.6440641869, 'gt': -46160.7300317256, 'mw': -5763.14632164398, 'cf': -14426.6440641869, 'sp': -66815.7748130211}\n"
     ]
    }
   ],
   "source": [
    "import sys,os,ast\n",
    "import pandas as pd\n",
    "sys.path.append(os.path.join(os.path.pardir,os.path.pardir,'tcg_slb_database','python'))\n",
    "from tcg_slb.phase import SLBPhase\n",
    "\n",
    "reference=\"Gconfig\"\n",
    "version = \"slb\"\n",
    "\n",
    "csvfile = '{}_phases.csv'.format(version)\n",
    "em_suffix = '_{}_em'.format(version)\n",
    "csv_headers = ['endmember_names','conversion_strs','X','d','W','sites','TC0','VD','SD']\n",
    "if version == 'slb21':\n",
    "    csv_headers.append('W_V')\n",
    "def literal_return(val):\n",
    "    try:\n",
    "        return ast.literal_eval(val)\n",
    "    except (ValueError, SyntaxError) as e:\n",
    "        return None\n",
    "converter = dict([(h,literal_return) for h in csv_headers])\n",
    "df = pd.read_csv(os.path.join(os.path.pardir, 'tcg_slb_database','database', 'data', csvfile),skipinitialspace=True,converters=converter)\n",
    "\n",
    "my_results = {}\n",
    "for i, row in df.iterrows():\n",
    "    values_dict = row.to_dict()\n",
    "    name = values_dict.pop('name').replace('-','_')\n",
    "    abbrev = values_dict.pop('abbrev')\n",
    "    endmember_names = values_dict.pop('endmember_names')\n",
    "    endmember_names = [em+em_suffix for em in endmember_names]\n",
    "    phase = SLBPhase(name, abbrev, reference, endmember_names, **values_dict)\n",
    "    if version == 'slb21':\n",
    "        phase.G = phase.G_2021()\n",
    "    Gconfig = phase.G_config_default()\n",
    "    K = len(phase.endmember_names)\n",
    "    if K==1:\n",
    "        continue\n",
    "    valdict = {\"T\":1000}\n",
    "    for k, em in enumerate(phase.endmember_names):\n",
    "        n_str = \"n{}\".format(k+1)\n",
    "        n_val = 1./K\n",
    "        valdict[n_str] = n_val\n",
    "    Gconfig = Gconfig.subs(valdict)\n",
    "    result = Gconfig.subs(phase.Rsym,8.31446261815324)\n",
    "    my_results[phase.abbrev] = result\n",
    "print(my_results)"
   ]
  },
  {
   "cell_type": "code",
   "execution_count": 64,
   "metadata": {},
   "outputs": [
    {
     "name": "stdout",
     "output_type": "stream",
     "text": [
      "-5763.14632164398 = -5763.14632164398 ? True\n",
      "-66815.7748130211 = -66815.77481302111 ? True\n",
      "-11526.2926432880 = -11526.29264328796 ? True\n",
      "-11526.2926432880 = -11526.29264328796 ? True\n",
      "-11526.2926432880 = -11526.29264328796 ? True\n",
      "-17289.4389649319 = -17289.43896493194 ? True\n",
      "-22077.8636375664 = -22077.863637566377 ? True\n",
      "-11526.2926432880 = -11526.29264328796 ? True\n",
      "-14426.6440641869 = -14426.644064186896 ? True\n"
     ]
    },
    {
     "ename": "KeyError",
     "evalue": "'gtmj'",
     "output_type": "error",
     "traceback": [
      "\u001b[0;31m---------------------------------------------------------------------------\u001b[0m",
      "\u001b[0;31mKeyError\u001b[0m                                  Traceback (most recent call last)",
      "\u001b[0;32m/tmp/ipykernel_1545/3337668655.py\u001b[0m in \u001b[0;36m<module>\u001b[0;34m\u001b[0m\n\u001b[1;32m     17\u001b[0m \u001b[0;34m\u001b[0m\u001b[0m\n\u001b[1;32m     18\u001b[0m \u001b[0;32mfor\u001b[0m \u001b[0mkey\u001b[0m\u001b[0;34m,\u001b[0m \u001b[0mval\u001b[0m \u001b[0;32min\u001b[0m \u001b[0mnico_results\u001b[0m\u001b[0;34m.\u001b[0m\u001b[0mitems\u001b[0m\u001b[0;34m(\u001b[0m\u001b[0;34m)\u001b[0m\u001b[0;34m:\u001b[0m\u001b[0;34m\u001b[0m\u001b[0;34m\u001b[0m\u001b[0m\n\u001b[0;32m---> 19\u001b[0;31m     \u001b[0mprint\u001b[0m\u001b[0;34m(\u001b[0m\u001b[0mmy_results\u001b[0m\u001b[0;34m[\u001b[0m\u001b[0mkey\u001b[0m\u001b[0;34m]\u001b[0m\u001b[0;34m,\u001b[0m\u001b[0;34m\"=\"\u001b[0m\u001b[0;34m,\u001b[0m\u001b[0mval\u001b[0m\u001b[0;34m,\u001b[0m\u001b[0;34m\"?\"\u001b[0m\u001b[0;34m,\u001b[0m\u001b[0;34m\"{:.10f}\"\u001b[0m\u001b[0;34m.\u001b[0m\u001b[0mformat\u001b[0m\u001b[0;34m(\u001b[0m\u001b[0mmy_results\u001b[0m\u001b[0;34m[\u001b[0m\u001b[0mkey\u001b[0m\u001b[0;34m]\u001b[0m\u001b[0;34m)\u001b[0m \u001b[0;34m==\u001b[0m \u001b[0;34m\"{:.10f}\"\u001b[0m\u001b[0;34m.\u001b[0m\u001b[0mformat\u001b[0m\u001b[0;34m(\u001b[0m\u001b[0mval\u001b[0m\u001b[0;34m)\u001b[0m\u001b[0;34m)\u001b[0m\u001b[0;34m\u001b[0m\u001b[0;34m\u001b[0m\u001b[0m\n\u001b[0m",
      "\u001b[0;31mKeyError\u001b[0m: 'gtmj'"
     ]
    }
   ],
   "source": [
    "nico_results = {\n",
    "    \"plg\": -5763.14632164398,\n",
    "    \"sp\": -66815.77481302111,\n",
    "    \"ol\": -11526.29264328796,\n",
    "    \"wa\": -11526.29264328796,\n",
    "    \"ri\": -11526.29264328796,\n",
    "    \"opx\": -17289.43896493194,\n",
    "    \"cpx\": -22077.863637566377,\n",
    "    \"hpcpx\": -11526.29264328796,\n",
    "    \"ak\": -14426.644064186896,\n",
    "    \"gtmj\": -46160.73003794125,\n",
    "    \"pv\": -14426.644064186896,\n",
    "    \"ppv\": -14426.644064186896,\n",
    "    \"mw\": -5763.14632164398,\n",
    "    \"cf\": -14426.644064186898,\n",
    "}\n",
    "\n",
    "for key, val in nico_results.items():\n",
    "    print(my_results[key],\"=\",val,\"?\",\"{:.10f}\".format(my_results[key]) == \"{:.10f}\".format(val))\n"
   ]
  },
  {
   "cell_type": "code",
   "execution_count": null,
   "metadata": {},
   "outputs": [],
   "source": []
  }
 ],
 "metadata": {
  "kernelspec": {
   "display_name": "Python 3",
   "language": "python",
   "name": "python3"
  },
  "language_info": {
   "codemirror_mode": {
    "name": "ipython",
    "version": 3
   },
   "file_extension": ".py",
   "mimetype": "text/x-python",
   "name": "python",
   "nbconvert_exporter": "python",
   "pygments_lexer": "ipython3",
   "version": "3.10.12"
  }
 },
 "nbformat": 4,
 "nbformat_minor": 2
}
